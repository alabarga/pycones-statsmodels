{
 "cells": [
  {
   "cell_type": "markdown",
   "metadata": {},
   "source": [
    "# ¿Qué es `statsmodels`?\n",
    "\n",
    "*Statistics in Python*\n",
    "\n",
    "*Statsmodels is a Python module that allows users to explore data, estimate statistical models, and perform statistical tests.*\n",
    "\n",
    "Por Miquel Camprodon (Kernel Analytics) e Israel Saeta (Lead Ratings)\n",
    "\n",
    "<img src=\"http://www.bigdatabcn.com/wp-content/uploads/2015/02/logo_kernel.jpg\" style=\"width:300px; display:inline\">\n",
    "<img src=\"http://lead-ratings.com/wp-content/uploads/2015/02/Lead-Ratings-eficiencia-leads.jpg\" style=\"width:300px; display:inline\">"
   ]
  },
  {
   "cell_type": "markdown",
   "metadata": {},
   "source": [
    "## Avances respecto a scikit-learn\n",
    "\n",
    " - Orientación mucho más académica, estadística/econométrica, menos Machine Learning. (permite ver análisis de modelos y datos)\n",
    " - Modelos lineales más avanzados, decenas de tests estadísticos. Lo que echas de menos si vienes de `R`.\n",
    " - Muy buena integración con `Pandas` a través de `patsy`:\n",
    "   - Permite usar DFs directamente\n",
    "   - Mantiene nombre de variables en la regresión\n",
    "   - Tratamiento automático sencillo de variables categóricas."
   ]
  },
  {
   "cell_type": "markdown",
   "metadata": {},
   "source": [
    "## Desventajas\n",
    "\n",
    " - Hay que tener conocimientos estadísticos para sacarle el máximo provecho.\n",
    " - Desarrollo más lento que `scikit-learn`. ¡Última versión de diciembre de 2014!\n",
    " - Documentación incompleta, difícil de entender. Varias formas de hacer la misma cosa.\n",
    " - No diseñado para producción. No hay pipes, ni especial dedicación a performance.\n"
   ]
  },
  {
   "cell_type": "markdown",
   "metadata": {},
   "source": [
    "# Aprendamos con un ejemplo"
   ]
  },
  {
   "cell_type": "markdown",
   "metadata": {},
   "source": [
    "Salarios anuales en consultora informática.\n",
    "\n",
    "Objetivo: predecir el salario en función de tres variables:\n",
    " - `Experience`: Años de experiencia (continua)\n",
    " - `Education `: Nivel de educación (categórica, Bachelor, Master, PhD)\n",
    " - `Management`: Si el puesto es de jefe o no (categórica/binaria)"
   ]
  },
  {
   "cell_type": "code",
   "execution_count": 1,
   "metadata": {
    "collapsed": false
   },
   "outputs": [
    {
     "name": "stderr",
     "output_type": "stream",
     "text": [
      "/home/dukebody/anaconda3/lib/python3.5/site-packages/matplotlib/__init__.py:872: UserWarning: axes.color_cycle is deprecated and replaced with axes.prop_cycle; please use the latter.\n",
      "  warnings.warn(self.msg_depr % (key, alt_key))\n"
     ]
    }
   ],
   "source": [
    "%matplotlib inline\n",
    "import pandas as pd\n",
    "import numpy as np\n",
    "from matplotlib import pyplot as plt\n",
    "import seaborn as sns  # gráficos bonitos y avanzados"
   ]
  },
  {
   "cell_type": "code",
   "execution_count": 3,
   "metadata": {
    "collapsed": false,
    "scrolled": true
   },
   "outputs": [
    {
     "data": {
      "text/html": [
       "<div>\n",
       "<table border=\"1\" class=\"dataframe\">\n",
       "  <thead>\n",
       "    <tr style=\"text-align: right;\">\n",
       "      <th></th>\n",
       "      <th>Salary</th>\n",
       "      <th>Experience</th>\n",
       "      <th>Education</th>\n",
       "      <th>Management</th>\n",
       "    </tr>\n",
       "  </thead>\n",
       "  <tbody>\n",
       "    <tr>\n",
       "      <th>0</th>\n",
       "      <td>13876</td>\n",
       "      <td>1</td>\n",
       "      <td>Bachelor</td>\n",
       "      <td>True</td>\n",
       "    </tr>\n",
       "    <tr>\n",
       "      <th>1</th>\n",
       "      <td>11608</td>\n",
       "      <td>1</td>\n",
       "      <td>PhD</td>\n",
       "      <td>False</td>\n",
       "    </tr>\n",
       "    <tr>\n",
       "      <th>2</th>\n",
       "      <td>18701</td>\n",
       "      <td>1</td>\n",
       "      <td>PhD</td>\n",
       "      <td>True</td>\n",
       "    </tr>\n",
       "    <tr>\n",
       "      <th>3</th>\n",
       "      <td>11283</td>\n",
       "      <td>1</td>\n",
       "      <td>Master</td>\n",
       "      <td>False</td>\n",
       "    </tr>\n",
       "    <tr>\n",
       "      <th>4</th>\n",
       "      <td>11767</td>\n",
       "      <td>1</td>\n",
       "      <td>PhD</td>\n",
       "      <td>False</td>\n",
       "    </tr>\n",
       "  </tbody>\n",
       "</table>\n",
       "</div>"
      ],
      "text/plain": [
       "   Salary  Experience Education Management\n",
       "0   13876           1  Bachelor       True\n",
       "1   11608           1       PhD      False\n",
       "2   18701           1       PhD       True\n",
       "3   11283           1    Master      False\n",
       "4   11767           1       PhD      False"
      ]
     },
     "execution_count": 3,
     "metadata": {},
     "output_type": "execute_result"
    }
   ],
   "source": [
    "df = pd.read_csv('data/salary.csv')\n",
    "df.head()"
   ]
  },
  {
   "cell_type": "code",
   "execution_count": 4,
   "metadata": {
    "collapsed": false,
    "scrolled": true
   },
   "outputs": [
    {
     "name": "stdout",
     "output_type": "stream",
     "text": [
      "<class 'pandas.core.frame.DataFrame'>\n",
      "Int64Index: 46 entries, 0 to 45\n",
      "Data columns (total 4 columns):\n",
      "Salary        46 non-null int64\n",
      "Experience    46 non-null int64\n",
      "Education     46 non-null object\n",
      "Management    46 non-null bool\n",
      "dtypes: bool(1), int64(2), object(1)\n",
      "memory usage: 1.5+ KB\n"
     ]
    }
   ],
   "source": [
    "df.info()"
   ]
  },
  {
   "cell_type": "code",
   "execution_count": 5,
   "metadata": {
    "collapsed": false,
    "scrolled": true
   },
   "outputs": [
    {
     "name": "stderr",
     "output_type": "stream",
     "text": [
      "/home/dukebody/anaconda3/lib/python3.5/site-packages/matplotlib/__init__.py:892: UserWarning: axes.color_cycle is deprecated and replaced with axes.prop_cycle; please use the latter.\n",
      "  warnings.warn(self.msg_depr % (key, alt_key))\n"
     ]
    },
    {
     "data": {
      "text/plain": [
       "<seaborn.axisgrid.FacetGrid at 0x7ff38bfb0a20>"
      ]
     },
     "execution_count": 5,
     "metadata": {},
     "output_type": "execute_result"
    },
    {
     "data": {
      "image/png": "[encoded data removed]",
      "text/plain": [
       "<matplotlib.figure.Figure at 0x7ff38bfb0be0>"
      ]
     },
     "metadata": {},
     "output_type": "display_data"
    }
   ],
   "source": [
    "sns.lmplot(\"Experience\", \"Salary\", hue=\"Education\", col='Management', data=df, fit_reg=False)"
   ]
  },
  {
   "cell_type": "markdown",
   "metadata": {},
   "source": [
    "Introducimos una variable que no aporta nada por demostración."
   ]
  },
  {
   "cell_type": "code",
   "execution_count": 6,
   "metadata": {
    "collapsed": false
   },
   "outputs": [],
   "source": [
    "df['Random'] = np.random.rand(len(df))"
   ]
  },
  {
   "cell_type": "markdown",
   "metadata": {},
   "source": [
    "# Regresión lineal con `scikit-learn`"
   ]
  },
  {
   "cell_type": "markdown",
   "metadata": {},
   "source": [
    "**Primero tenemos que transformar todas las variables en numéricas. Education es un string categórico, utilizamos dummification.**"
   ]
  },
  {
   "cell_type": "code",
   "execution_count": 7,
   "metadata": {
    "collapsed": false,
    "scrolled": false
   },
   "outputs": [
    {
     "name": "stderr",
     "output_type": "stream",
     "text": [
      "/home/dukebody/anaconda3/lib/python3.5/site-packages/sklearn/utils/fixes.py:64: DeprecationWarning: inspect.getargspec() is deprecated, use inspect.signature() instead\n",
      "  if 'order' in inspect.getargspec(np.copy)[0]:\n"
     ]
    }
   ],
   "source": [
    "from sklearn.preprocessing import LabelEncoder, OneHotEncoder\n",
    "skl_df = df.copy()\n",
    "skl_df['Education'] = LabelEncoder().fit_transform(skl_df['Education'])"
   ]
  },
  {
   "cell_type": "code",
   "execution_count": 10,
   "metadata": {
    "collapsed": false,
    "scrolled": false
   },
   "outputs": [
    {
     "name": "stdout",
     "output_type": "stream",
     "text": [
      "[[ 1.          0.          0.          1.          1.          0.60376151]\n",
      " [ 0.          0.          1.          1.          0.          0.11224327]\n",
      " [ 0.          0.          1.          1.          1.          0.94722951]\n",
      " [ 0.          1.          0.          1.          0.          0.48011397]\n",
      " [ 0.          0.          1.          1.          0.          0.75392701]\n",
      " [ 0.          1.          0.          2.          1.          0.72262234]\n",
      " [ 0.          1.          0.          2.          0.          0.09184458]\n",
      " [ 1.          0.          0.          2.          0.          0.34289414]\n",
      " [ 0.          0.          1.          2.          0.          0.25110017]\n",
      " [ 0.          1.          0.          3.          0.          0.21979095]]\n"
     ]
    }
   ],
   "source": [
    "df_x = skl_df[['Experience', 'Education', 'Management', 'Random']]\n",
    "onehot = OneHotEncoder(categorical_features=[1], sparse=False)\n",
    "x = onehot.fit_transform(df_x)\n",
    "y = skl_df['Salary'].values\n",
    "print(x[:10])  # primeros registros"
   ]
  },
  {
   "cell_type": "code",
   "execution_count": 11,
   "metadata": {
    "collapsed": false
   },
   "outputs": [
    {
     "data": {
      "text/plain": [
       "array([0, 3])"
      ]
     },
     "execution_count": 11,
     "metadata": {},
     "output_type": "execute_result"
    }
   ],
   "source": [
    "onehot.feature_indices_  # índice donde empieza cada columna dummificada"
   ]
  },
  {
   "cell_type": "code",
   "execution_count": 12,
   "metadata": {
    "collapsed": false
   },
   "outputs": [
    {
     "name": "stderr",
     "output_type": "stream",
     "text": [
      "/home/dukebody/anaconda3/lib/python3.5/site-packages/sklearn/base.py:175: DeprecationWarning: inspect.getargspec() is deprecated, use inspect.signature() instead\n",
      "  args, varargs, kw, default = inspect.getargspec(init)\n"
     ]
    },
    {
     "data": {
      "text/plain": [
       "LinearRegression(copy_X=True, fit_intercept=True, n_jobs=1, normalize=False)"
      ]
     },
     "execution_count": 12,
     "metadata": {},
     "output_type": "execute_result"
    }
   ],
   "source": [
    "from sklearn.linear_model import LinearRegression\n",
    "\n",
    "regr = LinearRegression()\n",
    "regr.fit(x, y)"
   ]
  },
  {
   "cell_type": "markdown",
   "metadata": {},
   "source": [
    "**¿Cómo de bueno es el ajuste en el conjunto de entrenamiento?**"
   ]
  },
  {
   "cell_type": "markdown",
   "metadata": {},
   "source": [
    "$$R^2 \\equiv 1 - {SS_{\\rm res}\\over SS_{\\rm tot}}.\\,$$"
   ]
  },
  {
   "cell_type": "code",
   "execution_count": 15,
   "metadata": {
    "collapsed": false
   },
   "outputs": [
    {
     "name": "stdout",
     "output_type": "stream",
     "text": [
      "Coeficientes: [-2032.53033803  1092.22209165   940.30824639   543.56610902  6880.4350083\n",
      "   238.8364963 ] \n",
      "\n",
      "Ordenada en el origen: 9979.94193207 \n",
      "\n",
      "% varianza explicada (R²): 0.957\n"
     ]
    }
   ],
   "source": [
    "print('Coeficientes: %s \\n' % regr.coef_)\n",
    "print('Ordenada en el origen: %s \\n' % regr.intercept_)\n",
    "print('%% varianza explicada (R²): %.3f' % regr.score(x, y))"
   ]
  },
  {
   "cell_type": "markdown",
   "metadata": {},
   "source": [
    "## Problemas\n",
    " - Mapping manual de coeficientes. ¿¿Cuál corresponde a cada valor de educación??\n",
    " - ¿Significancia de los mismos? ¿Hay alguna variable que no valga para mucho?\n",
    " - Incorporar interacciones (no lineales) entre variables no es sencillo."
   ]
  },
  {
   "cell_type": "markdown",
   "metadata": {},
   "source": [
    "### Mapping de coeficientes. Una opción a partir de patsy\n",
    "\n",
    " - Con scikit, la matriz de análisis es una matriz numérica que no tiene columnas\n",
    " - Usando OneHotEncoder / DictVectorizer hay que eliminar posteriormente una columna por cada variable dummificada\n",
    " - Necesitamos mantener la traza de a qué corresponde cada columna\n",
    " - Patsy nos puede ayudar"
   ]
  },
  {
   "cell_type": "markdown",
   "metadata": {},
   "source": [
    "## Patsy\n",
    "\n",
    "<img src=\"http://i.imgur.com/oDkrZoA.gif\">"
   ]
  },
  {
   "cell_type": "markdown",
   "metadata": {},
   "source": [
    "Biblioteca para describir modelos estadísticos, especialmente lineales.\n",
    "\n",
    " - Genera las matrices de números con las que entrenar / predecir (model matrices)\n",
    " - Sintaxis simbólica de fórmulas muy similar a la de `R`\n",
    " - Funciona bien con variables categóricas (contrast ajustable) [hace la dummyficación automáticamente, de forma inteligente. En sklearn hay que usar `LabelEncoder` (inconsistent API!) + `OneHotEncoder`]"
   ]
  },
  {
   "cell_type": "markdown",
   "metadata": {},
   "source": [
    "## Fórmulas básicas en patsy\n",
    " - **`y ~\tx`**: `y` es la variable de respuesta (endógena) que depende de la de entrada `x` (exógena)\n",
    " - **`y ~ x1 + x2`**: función de dos variables\n",
    " - **`y ~ x1:x2`**: función de la interacción entre las variables `x1` y `x2` (multiplicación)\n",
    " - **`y ~ x1*x2`**: atajo para `y ~ x1 + x2 + x1:x2`\n",
    " - **`y ~ x * * 2` **: función del cuadrado de `x`.\n",
    " - **`y ~ C(x)`**: tomar `x` como variable categórica. Automático si es un string.\n",
    " - **`y ~ standardize(x)`**: transformaciones arbitrarias de las variables (p. ej. estandarización)"
   ]
  },
  {
   "cell_type": "markdown",
   "metadata": {},
   "source": [
    "** Ejemplo anterior usando patsy **"
   ]
  },
  {
   "cell_type": "code",
   "execution_count": 16,
   "metadata": {
    "collapsed": false
   },
   "outputs": [],
   "source": [
    "# 'Importamos el modulo dmatrices de la libreria patsy'\n",
    "from patsy import dmatrices"
   ]
  },
  {
   "cell_type": "code",
   "execution_count": 19,
   "metadata": {
    "collapsed": false
   },
   "outputs": [
    {
     "name": "stdout",
     "output_type": "stream",
     "text": [
      "Coeficientes del modelo: [-2032.53033803  1092.22209165   940.30824639   543.56610902  6880.4350083\n",
      "   238.8364963 ] \n",
      "\n",
      "Detalle de las variables predictivas \n",
      "\n"
     ]
    },
    {
     "data": {
      "text/plain": [
       "array([[ 1.        ,  0.        ,  0.        ,  1.        ,  1.        ,\n",
       "         0.60376151],\n",
       "       [ 0.        ,  0.        ,  1.        ,  1.        ,  0.        ,\n",
       "         0.11224327],\n",
       "       [ 0.        ,  0.        ,  1.        ,  1.        ,  1.        ,\n",
       "         0.94722951],\n",
       "       [ 0.        ,  1.        ,  0.        ,  1.        ,  0.        ,\n",
       "         0.48011397],\n",
       "       [ 0.        ,  0.        ,  1.        ,  1.        ,  0.        ,\n",
       "         0.75392701]])"
      ]
     },
     "execution_count": 19,
     "metadata": {},
     "output_type": "execute_result"
    }
   ],
   "source": [
    "# esto es lo que teníamos anteriormente\n",
    "print('Coeficientes del modelo: %s \\n' % regr.coef_)\n",
    "print('Detalle de las variables predictivas \\n')\n",
    "x[0:5]"
   ]
  },
  {
   "cell_type": "code",
   "execution_count": 18,
   "metadata": {
    "collapsed": false
   },
   "outputs": [
    {
     "name": "stdout",
     "output_type": "stream",
     "text": [
      "Detalle del DataFrame \n",
      "\n",
      "   Salary  Experience  Education Management    Random\n",
      "0   13876           1          0       True  0.603762\n",
      "1   11608           1          2      False  0.112243\n",
      "2   18701           1          2       True  0.947230\n",
      "3   11283           1          1      False  0.480114\n",
      "4   11767           1          2      False  0.753927\n"
     ]
    }
   ],
   "source": [
    "print('Detalle del DataFrame \\n')\n",
    "print(skl_df.head())"
   ]
  },
  {
   "cell_type": "markdown",
   "metadata": {},
   "source": [
    "Con patsy hemos llegado a tener la matriz de modelización con la ventaja que sigue siendo un objeto `DataFrame`\n",
    "Ahora tenemos el DataFrame listo para modelizar y además conserva el nombre de las columnas\n",
    "Vemos que `patsy` ha añadido una columna `Intercept`. Lo tendremos en cuenta a la hora de modelizar"
   ]
  },
  {
   "cell_type": "code",
   "execution_count": 21,
   "metadata": {
    "collapsed": false
   },
   "outputs": [
    {
     "name": "stdout",
     "output_type": "stream",
     "text": [
      "Variables exógenas usando patsy \n",
      "\n",
      "   Intercept  C(Education)[T.1]  C(Education)[T.2]  Management[T.True]  \\\n",
      "0          1                  0                  0                   1   \n",
      "1          1                  0                  1                   0   \n",
      "2          1                  0                  1                   1   \n",
      "3          1                  1                  0                   0   \n",
      "4          1                  0                  1                   0   \n",
      "\n",
      "   Experience    Random  \n",
      "0           1  0.603762  \n",
      "1           1  0.112243  \n",
      "2           1  0.947230  \n",
      "3           1  0.480114  \n",
      "4           1  0.753927  \n",
      "\n",
      "\n",
      "Variable endógena usando patsy \n",
      "\n",
      "   Salary\n",
      "0   13876\n",
      "1   11608\n",
      "2   18701\n",
      "3   11283\n",
      "4   11767\n"
     ]
    }
   ],
   "source": [
    "# Usamos una formula y la libreria patsy\n",
    "formula = 'Salary ~ Experience + C(Education) + Management + Random'\n",
    "y_patsy, x_patsy = dmatrices(formula, skl_df, return_type=\"dataframe\")\n",
    "\n",
    "print('Variables exógenas usando patsy \\n')\n",
    "print(x_patsy.head())\n",
    "print('\\n')\n",
    "print('Variable endógena usando patsy \\n')\n",
    "print(y_patsy.head())"
   ]
  },
  {
   "cell_type": "markdown",
   "metadata": {},
   "source": [
    "** Ajuste del modelo con patsy **"
   ]
  },
  {
   "cell_type": "code",
   "execution_count": 22,
   "metadata": {
    "collapsed": false
   },
   "outputs": [
    {
     "name": "stderr",
     "output_type": "stream",
     "text": [
      "/home/dukebody/anaconda3/lib/python3.5/site-packages/sklearn/base.py:175: DeprecationWarning: inspect.getargspec() is deprecated, use inspect.signature() instead\n",
      "  args, varargs, kw, default = inspect.getargspec(init)\n"
     ]
    },
    {
     "data": {
      "text/plain": [
       "LinearRegression(copy_X=True, fit_intercept=False, n_jobs=1, normalize=False)"
      ]
     },
     "execution_count": 22,
     "metadata": {},
     "output_type": "execute_result"
    }
   ],
   "source": [
    "regr2 = LinearRegression(fit_intercept=False)\n",
    "regr2.fit(x_patsy, y_patsy)"
   ]
  },
  {
   "cell_type": "markdown",
   "metadata": {},
   "source": [
    "** Es un modelo parecido? **"
   ]
  },
  {
   "cell_type": "code",
   "execution_count": 24,
   "metadata": {
    "collapsed": false
   },
   "outputs": [
    {
     "name": "stdout",
     "output_type": "stream",
     "text": [
      "Coeficientes: [[ 7947.41159403  3124.75242968  2972.83858442  6880.4350083    543.56610902\n",
      "    238.8364963 ]] \n",
      "\n",
      "Ordenada en el origen: 7947.41159403 \n",
      "\n",
      "% varianza explicada (R²): 0.957\n"
     ]
    }
   ],
   "source": [
    "print('Coeficientes: %s \\n' % regr2.coef_)\n",
    "print('Ordenada en el origen: %s \\n' % regr2.coef_[0][0])\n",
    "print('%% varianza explicada (R²): %.3f' % regr2.score(x_patsy, y_patsy))"
   ]
  },
  {
   "cell_type": "markdown",
   "metadata": {},
   "source": [
    "** Ahora sabemos que es cada variable ya que son columnas del `DataFrame` **"
   ]
  },
  {
   "cell_type": "code",
   "execution_count": 25,
   "metadata": {
    "collapsed": false
   },
   "outputs": [
    {
     "name": "stdout",
     "output_type": "stream",
     "text": [
      "7947.41159403 \t Intercept\n",
      "3124.75242968 \t C(Education)[T.1]\n",
      "2972.83858442 \t C(Education)[T.2]\n",
      "6880.4350083 \t Management[T.True]\n",
      "543.566109019 \t Experience\n",
      "238.8364963 \t Random\n"
     ]
    }
   ],
   "source": [
    "for val, col in zip(regr2.coef_[0], x_patsy.columns):\n",
    "    print('%s \\t %s' % (val, col))"
   ]
  },
  {
   "cell_type": "markdown",
   "metadata": {},
   "source": [
    "** Resumen **\n",
    "\n",
    "Con la ayuda de la libreria `patsy`, somos capaces de realizar la dummificación de variables\n",
    "de forma sencilla y manteniendo un objeto `DataFrame`, lo que nos permite seguir manteniendo\n",
    "el nombre de las columnas.\n",
    "\n",
    "La dummification de variables de `patsy` añade por defecto una columna adicional correspondiente \n",
    "al intercept del modelo. Hay que evitar tener duplicidades de este valor, pues la regresión\n",
    "también considera un intercept adicional. Dos opciones:\n",
    "\n",
    " - Indicar a `patsy` que no cree la columna intercept (añadiendo un 0 en la formula del modelo)\n",
    " - Indicar al modelo que no use un intercept (atributo `fit_intercept = False`)"
   ]
  },
  {
   "cell_type": "markdown",
   "metadata": {},
   "source": [
    "## Problemas\n",
    " - ~~Mapping manual de coeficientes. ¿¿Cuál corresponde a cada valor de educación??~~ RESUELTO\n",
    " - ¿Significancia de los mismos? ¿Hay alguna variable que no valga para mucho?\n",
    " - Incorporar interacciones (no lineales) entre variables no es sencillo."
   ]
  },
  {
   "cell_type": "markdown",
   "metadata": {},
   "source": [
    "### Significancia de las variables\n",
    "\n",
    " - `scikit-learn` no es una librería estadística, es una librería de Machine Learning. \n",
    " - `statsmodels` es una librería estadística y nos va a ayudar, ya que aporta más información sobre los modelos"
   ]
  },
  {
   "cell_type": "markdown",
   "metadata": {},
   "source": [
    "# `statsmodels`"
   ]
  },
  {
   "cell_type": "markdown",
   "metadata": {},
   "source": [
    "** Modelizando con `statsmodels` y `patsy` **"
   ]
  },
  {
   "cell_type": "code",
   "execution_count": 26,
   "metadata": {
    "collapsed": true
   },
   "outputs": [],
   "source": [
    "import statsmodels.api as sm\n",
    "from patsy import dmatrices"
   ]
  },
  {
   "cell_type": "code",
   "execution_count": 27,
   "metadata": {
    "collapsed": false
   },
   "outputs": [
    {
     "name": "stdout",
     "output_type": "stream",
     "text": [
      "   Intercept  C(Education)[T.Master]  C(Education)[T.PhD]  Management[T.True]  \\\n",
      "0          1                       0                    0                   1   \n",
      "1          1                       0                    1                   0   \n",
      "2          1                       0                    1                   1   \n",
      "3          1                       1                    0                   0   \n",
      "4          1                       0                    1                   0   \n",
      "\n",
      "   Experience    Random  \n",
      "0           1  0.603762  \n",
      "1           1  0.112243  \n",
      "2           1  0.947230  \n",
      "3           1  0.480114  \n",
      "4           1  0.753927  \n"
     ]
    }
   ],
   "source": [
    "formula = 'Salary ~ Experience + C(Education) + Management + Random'\n",
    "y, x = dmatrices(formula, df, return_type='dataframe')\n",
    "print(x.head())"
   ]
  },
  {
   "cell_type": "code",
   "execution_count": 28,
   "metadata": {
    "collapsed": false,
    "scrolled": false
   },
   "outputs": [
    {
     "name": "stdout",
     "output_type": "stream",
     "text": [
      "                            OLS Regression Results                            \n",
      "==============================================================================\n",
      "Dep. Variable:                 Salary   R-squared:                       0.957\n",
      "Model:                            OLS   Adj. R-squared:                  0.952\n",
      "Method:                 Least Squares   F-statistic:                     177.8\n",
      "Date:                Sat, 21 Nov 2015   Prob (F-statistic):           3.32e-26\n",
      "Time:                        10:29:32   Log-Likelihood:                -381.53\n",
      "No. Observations:                  46   AIC:                             775.1\n",
      "Df Residuals:                      40   BIC:                             786.0\n",
      "Df Model:                           5                                         \n",
      "Covariance Type:            nonrobust                                         \n",
      "==========================================================================================\n",
      "                             coef    std err          t      P>|t|      [95.0% Conf. Int.]\n",
      "------------------------------------------------------------------------------------------\n",
      "Intercept               7947.4116    446.699     17.791      0.000      7044.599  8850.225\n",
      "C(Education)[T.Master]  3124.7524    368.761      8.474      0.000      2379.458  3870.047\n",
      "C(Education)[T.PhD]     2972.8386    419.948      7.079      0.000      2124.092  3821.585\n",
      "Management[T.True]      6880.4350    317.253     21.688      0.000      6239.242  7521.628\n",
      "Experience               543.5661     31.498     17.257      0.000       479.907   607.225\n",
      "Random                   238.8365    586.564      0.407      0.686      -946.654  1424.327\n",
      "==============================================================================\n",
      "Omnibus:                        2.736   Durbin-Watson:                   2.211\n",
      "Prob(Omnibus):                  0.255   Jarque-Bera (JB):                1.484\n",
      "Skew:                          -0.068   Prob(JB):                        0.476\n",
      "Kurtosis:                       2.131   Cond. No.                         38.7\n",
      "==============================================================================\n",
      "\n",
      "Warnings:\n",
      "[1] Standard Errors assume that the covariance matrix of the errors is correctly specified.\n"
     ]
    }
   ],
   "source": [
    "lm = sm.OLS(y, x).fit()\n",
    "print(lm.summary())"
   ]
  },
  {
   "cell_type": "code",
   "execution_count": 29,
   "metadata": {
    "collapsed": false
   },
   "outputs": [
    {
     "data": {
      "text/html": [
       "<div>\n",
       "<table border=\"1\" class=\"dataframe\">\n",
       "  <thead>\n",
       "    <tr style=\"text-align: right;\">\n",
       "      <th></th>\n",
       "      <th>df</th>\n",
       "      <th>sum_sq</th>\n",
       "      <th>mean_sq</th>\n",
       "      <th>F</th>\n",
       "      <th>PR(&gt;F)</th>\n",
       "    </tr>\n",
       "  </thead>\n",
       "  <tbody>\n",
       "    <tr>\n",
       "      <th>C(Education)</th>\n",
       "      <td>2</td>\n",
       "      <td>1.091346e+08</td>\n",
       "      <td>5.456732e+07</td>\n",
       "      <td>50.640098</td>\n",
       "      <td>1.095403e-11</td>\n",
       "    </tr>\n",
       "    <tr>\n",
       "      <th>Management</th>\n",
       "      <td>1</td>\n",
       "      <td>5.105843e+08</td>\n",
       "      <td>5.105843e+08</td>\n",
       "      <td>473.837403</td>\n",
       "      <td>8.701837e-24</td>\n",
       "    </tr>\n",
       "    <tr>\n",
       "      <th>Experience</th>\n",
       "      <td>1</td>\n",
       "      <td>3.380979e+08</td>\n",
       "      <td>3.380979e+08</td>\n",
       "      <td>313.764925</td>\n",
       "      <td>1.548270e-20</td>\n",
       "    </tr>\n",
       "    <tr>\n",
       "      <th>Random</th>\n",
       "      <td>1</td>\n",
       "      <td>1.786522e+05</td>\n",
       "      <td>1.786522e+05</td>\n",
       "      <td>0.165795</td>\n",
       "      <td>6.860475e-01</td>\n",
       "    </tr>\n",
       "    <tr>\n",
       "      <th>Residual</th>\n",
       "      <td>40</td>\n",
       "      <td>4.310207e+07</td>\n",
       "      <td>1.077552e+06</td>\n",
       "      <td>NaN</td>\n",
       "      <td>NaN</td>\n",
       "    </tr>\n",
       "  </tbody>\n",
       "</table>\n",
       "</div>"
      ],
      "text/plain": [
       "              df        sum_sq       mean_sq           F        PR(>F)\n",
       "C(Education)   2  1.091346e+08  5.456732e+07   50.640098  1.095403e-11\n",
       "Management     1  5.105843e+08  5.105843e+08  473.837403  8.701837e-24\n",
       "Experience     1  3.380979e+08  3.380979e+08  313.764925  1.548270e-20\n",
       "Random         1  1.786522e+05  1.786522e+05    0.165795  6.860475e-01\n",
       "Residual      40  4.310207e+07  1.077552e+06         NaN           NaN"
      ]
     },
     "execution_count": 29,
     "metadata": {},
     "output_type": "execute_result"
    }
   ],
   "source": [
    "sm.stats.anova_lm(lm)"
   ]
  },
  {
   "cell_type": "markdown",
   "metadata": {},
   "source": [
    "La variable \"Random\" no aporta prácticamente nada al modelo."
   ]
  },
  {
   "cell_type": "markdown",
   "metadata": {},
   "source": [
    "**Análisis de los residuos. Deberían estar distribuidos de forma aleatoria en torno a 0.**"
   ]
  },
  {
   "cell_type": "code",
   "execution_count": 30,
   "metadata": {
    "collapsed": false,
    "scrolled": false
   },
   "outputs": [
    {
     "name": "stderr",
     "output_type": "stream",
     "text": [
      "/home/dukebody/anaconda3/lib/python3.5/site-packages/matplotlib/__init__.py:892: UserWarning: axes.color_cycle is deprecated and replaced with axes.prop_cycle; please use the latter.\n",
      "  warnings.warn(self.msg_depr % (key, alt_key))\n"
     ]
    },
    {
     "data": {
      "text/plain": [
       "<seaborn.axisgrid.FacetGrid at 0x7ff378d64518>"
      ]
     },
     "execution_count": 30,
     "metadata": {},
     "output_type": "execute_result"
    },
    {
     "data": {
      "image/png": "[encoded data removed]",
      "text/plain": [
       "<matplotlib.figure.Figure at 0x7ff378d643c8>"
      ]
     },
     "metadata": {},
     "output_type": "display_data"
    }
   ],
   "source": [
    "df['resid'] = lm.resid\n",
    "sns.lmplot(\"Experience\", \"resid\", hue=\"Education\", data=df, fit_reg=False)"
   ]
  },
  {
   "cell_type": "markdown",
   "metadata": {},
   "source": [
    "**¿Quizá la educación se valora de forma distinta para los jefes?**"
   ]
  },
  {
   "cell_type": "code",
   "execution_count": 31,
   "metadata": {
    "collapsed": false,
    "scrolled": false
   },
   "outputs": [
    {
     "data": {
      "text/html": [
       "<div>\n",
       "<table border=\"1\" class=\"dataframe\">\n",
       "  <thead>\n",
       "    <tr style=\"text-align: right;\">\n",
       "      <th></th>\n",
       "      <th>Intercept</th>\n",
       "      <th>C(Management)[T.True]</th>\n",
       "      <th>C(Education)[T.Master]</th>\n",
       "      <th>C(Education)[T.PhD]</th>\n",
       "      <th>C(Management)[T.True]:C(Education)[T.Master]</th>\n",
       "      <th>C(Management)[T.True]:C(Education)[T.PhD]</th>\n",
       "      <th>Experience</th>\n",
       "    </tr>\n",
       "  </thead>\n",
       "  <tbody>\n",
       "    <tr>\n",
       "      <th>0</th>\n",
       "      <td>1</td>\n",
       "      <td>1</td>\n",
       "      <td>0</td>\n",
       "      <td>0</td>\n",
       "      <td>0</td>\n",
       "      <td>0</td>\n",
       "      <td>1</td>\n",
       "    </tr>\n",
       "    <tr>\n",
       "      <th>1</th>\n",
       "      <td>1</td>\n",
       "      <td>0</td>\n",
       "      <td>0</td>\n",
       "      <td>1</td>\n",
       "      <td>0</td>\n",
       "      <td>0</td>\n",
       "      <td>1</td>\n",
       "    </tr>\n",
       "    <tr>\n",
       "      <th>2</th>\n",
       "      <td>1</td>\n",
       "      <td>1</td>\n",
       "      <td>0</td>\n",
       "      <td>1</td>\n",
       "      <td>0</td>\n",
       "      <td>1</td>\n",
       "      <td>1</td>\n",
       "    </tr>\n",
       "    <tr>\n",
       "      <th>3</th>\n",
       "      <td>1</td>\n",
       "      <td>0</td>\n",
       "      <td>1</td>\n",
       "      <td>0</td>\n",
       "      <td>0</td>\n",
       "      <td>0</td>\n",
       "      <td>1</td>\n",
       "    </tr>\n",
       "    <tr>\n",
       "      <th>4</th>\n",
       "      <td>1</td>\n",
       "      <td>0</td>\n",
       "      <td>0</td>\n",
       "      <td>1</td>\n",
       "      <td>0</td>\n",
       "      <td>0</td>\n",
       "      <td>1</td>\n",
       "    </tr>\n",
       "  </tbody>\n",
       "</table>\n",
       "</div>"
      ],
      "text/plain": [
       "   Intercept  C(Management)[T.True]  C(Education)[T.Master]  \\\n",
       "0          1                      1                       0   \n",
       "1          1                      0                       0   \n",
       "2          1                      1                       0   \n",
       "3          1                      0                       1   \n",
       "4          1                      0                       0   \n",
       "\n",
       "   C(Education)[T.PhD]  C(Management)[T.True]:C(Education)[T.Master]  \\\n",
       "0                    0                                             0   \n",
       "1                    1                                             0   \n",
       "2                    1                                             0   \n",
       "3                    0                                             0   \n",
       "4                    1                                             0   \n",
       "\n",
       "   C(Management)[T.True]:C(Education)[T.PhD]  Experience  \n",
       "0                                          0           1  \n",
       "1                                          0           1  \n",
       "2                                          1           1  \n",
       "3                                          0           1  \n",
       "4                                          0           1  "
      ]
     },
     "execution_count": 31,
     "metadata": {},
     "output_type": "execute_result"
    }
   ],
   "source": [
    "# equivale 'Salary ~ Experience:C(Education) + Experience + C(Education) + C(Management)'\n",
    "formula_EM = 'Salary ~ Experience + C(Management)*C(Education)'\n",
    "y, x = dmatrices(formula_EM, df, return_type='dataframe')\n",
    "x.head()"
   ]
  },
  {
   "cell_type": "markdown",
   "metadata": {},
   "source": [
    "**`Patsy` deduce automáticamente las matrices de diseño correctas para que no haya colinearidades.**\n",
    "\n",
    "**Las variables categóricas admiten diferentes codificaciones, eligiendo cuál es la categoría base y otros parámetros. **"
   ]
  },
  {
   "cell_type": "code",
   "execution_count": 32,
   "metadata": {
    "collapsed": false,
    "scrolled": true
   },
   "outputs": [
    {
     "name": "stdout",
     "output_type": "stream",
     "text": [
      "                            OLS Regression Results                            \n",
      "==============================================================================\n",
      "Dep. Variable:                 Salary   R-squared:                       0.999\n",
      "Model:                            OLS   Adj. R-squared:                  0.999\n",
      "Method:                 Least Squares   F-statistic:                     5517.\n",
      "Date:                Sat, 21 Nov 2015   Prob (F-statistic):           1.67e-55\n",
      "Time:                        10:30:03   Log-Likelihood:                -298.74\n",
      "No. Observations:                  46   AIC:                             611.5\n",
      "Df Residuals:                      39   BIC:                             624.3\n",
      "Df Model:                           6                                         \n",
      "Covariance Type:            nonrobust                                         \n",
      "================================================================================================================\n",
      "                                                   coef    std err          t      P>|t|      [95.0% Conf. Int.]\n",
      "----------------------------------------------------------------------------------------------------------------\n",
      "Intercept                                     9472.6854     80.344    117.902      0.000      9310.175  9635.196\n",
      "C(Management)[T.True]                         3981.3769    101.175     39.351      0.000      3776.732  4186.022\n",
      "C(Education)[T.Master]                        1381.6706     77.319     17.870      0.000      1225.279  1538.063\n",
      "C(Education)[T.PhD]                           1730.7483    105.334     16.431      0.000      1517.690  1943.806\n",
      "C(Management)[T.True]:C(Education)[T.Master]  4902.5231    131.359     37.322      0.000      4636.825  5168.222\n",
      "C(Management)[T.True]:C(Education)[T.PhD]     3066.0351    149.330     20.532      0.000      2763.986  3368.084\n",
      "Experience                                     496.9870      5.566     89.283      0.000       485.728   508.246\n",
      "==============================================================================\n",
      "Omnibus:                       74.761   Durbin-Watson:                   2.244\n",
      "Prob(Omnibus):                  0.000   Jarque-Bera (JB):             1037.873\n",
      "Skew:                          -4.103   Prob(JB):                    4.25e-226\n",
      "Kurtosis:                      24.776   Cond. No.                         79.0\n",
      "==============================================================================\n",
      "\n",
      "Warnings:\n",
      "[1] Standard Errors assume that the covariance matrix of the errors is correctly specified.\n"
     ]
    }
   ],
   "source": [
    "interEM_lm = sm.OLS(y, x).fit()\n",
    "print(interEM_lm.summary())"
   ]
  },
  {
   "cell_type": "markdown",
   "metadata": {},
   "source": [
    "**¿Es éste modelo significativamente mejor que el anterior?**"
   ]
  },
  {
   "cell_type": "code",
   "execution_count": 33,
   "metadata": {
    "collapsed": false
   },
   "outputs": [
    {
     "data": {
      "text/html": [
       "<div>\n",
       "<table border=\"1\" class=\"dataframe\">\n",
       "  <thead>\n",
       "    <tr style=\"text-align: right;\">\n",
       "      <th></th>\n",
       "      <th>df_resid</th>\n",
       "      <th>ssr</th>\n",
       "      <th>df_diff</th>\n",
       "      <th>ss_diff</th>\n",
       "      <th>F</th>\n",
       "      <th>Pr(&gt;F)</th>\n",
       "    </tr>\n",
       "  </thead>\n",
       "  <tbody>\n",
       "    <tr>\n",
       "      <th>0</th>\n",
       "      <td>40</td>\n",
       "      <td>43102067.251955</td>\n",
       "      <td>0</td>\n",
       "      <td>NaN</td>\n",
       "      <td>NaN</td>\n",
       "      <td>NaN</td>\n",
       "    </tr>\n",
       "    <tr>\n",
       "      <th>1</th>\n",
       "      <td>39</td>\n",
       "      <td>1178167.864864</td>\n",
       "      <td>1</td>\n",
       "      <td>41923899.387091</td>\n",
       "      <td>1387.775142</td>\n",
       "      <td>4.218636e-32</td>\n",
       "    </tr>\n",
       "  </tbody>\n",
       "</table>\n",
       "</div>"
      ],
      "text/plain": [
       "   df_resid              ssr  df_diff          ss_diff            F  \\\n",
       "0        40  43102067.251955        0              NaN          NaN   \n",
       "1        39   1178167.864864        1  41923899.387091  1387.775142   \n",
       "\n",
       "         Pr(>F)  \n",
       "0           NaN  \n",
       "1  4.218636e-32  "
      ]
     },
     "execution_count": 33,
     "metadata": {},
     "output_type": "execute_result"
    }
   ],
   "source": [
    "from statsmodels.stats.anova import anova_lm\n",
    "anova_lm(lm, interEM_lm)"
   ]
  },
  {
   "cell_type": "markdown",
   "metadata": {},
   "source": [
    "**El último modelo sí que es significativamente diferente del anterior. Hacemos un plot de los residuos y vemos que ahora sí que son aleatorios en torno a cero.**"
   ]
  },
  {
   "cell_type": "code",
   "execution_count": 34,
   "metadata": {
    "collapsed": false,
    "scrolled": false
   },
   "outputs": [
    {
     "name": "stderr",
     "output_type": "stream",
     "text": [
      "/home/dukebody/anaconda3/lib/python3.5/site-packages/matplotlib/__init__.py:892: UserWarning: axes.color_cycle is deprecated and replaced with axes.prop_cycle; please use the latter.\n",
      "  warnings.warn(self.msg_depr % (key, alt_key))\n"
     ]
    },
    {
     "data": {
      "text/plain": [
       "<seaborn.axisgrid.FacetGrid at 0x7ff37a59ddd8>"
      ]
     },
     "execution_count": 34,
     "metadata": {},
     "output_type": "execute_result"
    },
    {
     "data": {
      "image/png": "[encoded data removed]",
      "text/plain": [
       "<matplotlib.figure.Figure at 0x7ff378c79080>"
      ]
     },
     "metadata": {},
     "output_type": "display_data"
    }
   ],
   "source": [
    "df['resid'] = interEM_lm.resid\n",
    "sns.lmplot(\"Experience\", \"resid\", hue=\"Education\", data=df, fit_reg=False)"
   ]
  },
  {
   "cell_type": "markdown",
   "metadata": {},
   "source": [
    "Hay un outlier claro que se puede eliminar para mejorar el modelo, o usar modelos robustos."
   ]
  },
  {
   "cell_type": "code",
   "execution_count": 35,
   "metadata": {
    "collapsed": false
   },
   "outputs": [
    {
     "name": "stdout",
     "output_type": "stream",
     "text": [
      "                    Robust linear Model Regression Results                    \n",
      "==============================================================================\n",
      "Dep. Variable:                 Salary   No. Observations:                   46\n",
      "Model:                            RLM   Df Residuals:                       39\n",
      "Method:                          IRLS   Df Model:                            6\n",
      "Norm:                          HuberT                                         \n",
      "Scale Est.:                       mad                                         \n",
      "Cov Type:                          H1                                         \n",
      "Date:                Sat, 21 Nov 2015                                         \n",
      "Time:                        10:30:23                                         \n",
      "No. Iterations:                    18                                         \n",
      "================================================================================================================\n",
      "                                                   coef    std err          z      P>|z|      [95.0% Conf. Int.]\n",
      "----------------------------------------------------------------------------------------------------------------\n",
      "Intercept                                     9464.6642     35.390    267.442      0.000      9395.302  9534.026\n",
      "C(Management)[T.True]                         3984.6400     44.565     89.412      0.000      3897.294  4071.986\n",
      "C(Education)[T.Master]                        1375.7423     34.057     40.395      0.000      1308.991  1442.493\n",
      "C(Education)[T.PhD]                           1736.5456     46.397     37.428      0.000      1645.609  1827.482\n",
      "C(Management)[T.True]:C(Education)[T.Master]  5044.5678     57.861     87.185      0.000      4931.163  5157.973\n",
      "C(Management)[T.True]:C(Education)[T.PhD]     3053.2319     65.777     46.418      0.000      2924.312  3182.152\n",
      "Experience                                     497.9783      2.452    203.101      0.000       493.173   502.784\n",
      "================================================================================================================\n",
      "\n",
      "If the model instance has been used for another fit with different fit\n",
      "parameters, then the fit options might not be the correct ones anymore .\n"
     ]
    }
   ],
   "source": [
    "rlm_model = sm.RLM(y, x, M=sm.robust.norms.HuberT())\n",
    "rlm_results = rlm_model.fit()\n",
    "print(rlm_results.summary())"
   ]
  },
  {
   "cell_type": "markdown",
   "metadata": {},
   "source": [
    "** Resumen **\n",
    "\n",
    "Combinando `statsmodels` y `patsy` podemos realizar modelos estadísticos complejos añadiendo interacciones entre variables de distintas formas.\n",
    "\n",
    "`statsmodels`, al ser una librería estadística, nos ofrece multitud de indicadores de significatividad y ajusde de los modelos que nos facilitan la detección de errores habituales como overfitting o colinearlidades. También permite identificar las variables más i menos importantes de los modelos.\n",
    "\n",
    "`patsy`, como librería auxiliar, ofrece muchas posibilidades como son realizar la dummificación de variables y permite definir los modelos a partir de un lenguaje de fórmulas."
   ]
  },
  {
   "cell_type": "markdown",
   "metadata": {},
   "source": [
    "## ¿Y en producción?\n",
    "\n",
    " - Preferimos utilizar la librería `scikit` para producción\n",
    " - `statsmodels` (creemos que) es una librería muy académica\n",
    " - Aunque parecidos, cada librería tiene sus métodos de ajuste propios\n",
    " - Es posible encontrar equivalencias entre modelos de `scikit` y modelos de `statsmodels` (con pacicencia!)\n",
    " \n",
    "Ejemplo:"
   ]
  },
  {
   "cell_type": "markdown",
   "metadata": {},
   "source": [
    "** Modelo anterior en statsmodels **"
   ]
  },
  {
   "cell_type": "code",
   "execution_count": 36,
   "metadata": {
    "collapsed": false,
    "scrolled": true
   },
   "outputs": [
    {
     "name": "stdout",
     "output_type": "stream",
     "text": [
      "                            OLS Regression Results                            \n",
      "==============================================================================\n",
      "Dep. Variable:                 Salary   R-squared:                       0.999\n",
      "Model:                            OLS   Adj. R-squared:                  0.999\n",
      "Method:                 Least Squares   F-statistic:                     5517.\n",
      "Date:                Sat, 21 Nov 2015   Prob (F-statistic):           1.67e-55\n",
      "Time:                        10:30:41   Log-Likelihood:                -298.74\n",
      "No. Observations:                  46   AIC:                             611.5\n",
      "Df Residuals:                      39   BIC:                             624.3\n",
      "Df Model:                           6                                         \n",
      "Covariance Type:            nonrobust                                         \n",
      "================================================================================================================\n",
      "                                                   coef    std err          t      P>|t|      [95.0% Conf. Int.]\n",
      "----------------------------------------------------------------------------------------------------------------\n",
      "Intercept                                     9472.6854     80.344    117.902      0.000      9310.175  9635.196\n",
      "C(Management)[T.True]                         3981.3769    101.175     39.351      0.000      3776.732  4186.022\n",
      "C(Education)[T.Master]                        1381.6706     77.319     17.870      0.000      1225.279  1538.063\n",
      "C(Education)[T.PhD]                           1730.7483    105.334     16.431      0.000      1517.690  1943.806\n",
      "C(Management)[T.True]:C(Education)[T.Master]  4902.5231    131.359     37.322      0.000      4636.825  5168.222\n",
      "C(Management)[T.True]:C(Education)[T.PhD]     3066.0351    149.330     20.532      0.000      2763.986  3368.084\n",
      "Experience                                     496.9870      5.566     89.283      0.000       485.728   508.246\n",
      "==============================================================================\n",
      "Omnibus:                       74.761   Durbin-Watson:                   2.244\n",
      "Prob(Omnibus):                  0.000   Jarque-Bera (JB):             1037.873\n",
      "Skew:                          -4.103   Prob(JB):                    4.25e-226\n",
      "Kurtosis:                      24.776   Cond. No.                         79.0\n",
      "==============================================================================\n",
      "\n",
      "Warnings:\n",
      "[1] Standard Errors assume that the covariance matrix of the errors is correctly specified.\n",
      "\n",
      "\n",
      "Variables y coeficientes en statsmodels \n",
      "\n",
      "Intercept                                       9472.685450\n",
      "C(Management)[T.True]                           3981.376900\n",
      "C(Education)[T.Master]                          1381.670631\n",
      "C(Education)[T.PhD]                             1730.748323\n",
      "C(Management)[T.True]:C(Education)[T.Master]    4902.523071\n",
      "C(Management)[T.True]:C(Education)[T.PhD]       3066.035125\n",
      "Experience                                       496.987011\n",
      "dtype: float64\n"
     ]
    }
   ],
   "source": [
    "y_regr, x_regr = dmatrices(formula_EM, df, return_type='dataframe')\n",
    "\n",
    "regr_stm = sm.OLS(y_regr, x_regr).fit()\n",
    "print(regr_stm.summary())\n",
    "print('\\n\\nVariables y coeficientes en statsmodels \\n')\n",
    "print(regr_stm.params)"
   ]
  },
  {
   "cell_type": "markdown",
   "metadata": {},
   "source": [
    "** Modelo anterior en scikit **"
   ]
  },
  {
   "cell_type": "code",
   "execution_count": 38,
   "metadata": {
    "collapsed": false
   },
   "outputs": [
    {
     "name": "stderr",
     "output_type": "stream",
     "text": [
      "/home/dukebody/anaconda3/lib/python3.5/site-packages/sklearn/base.py:175: DeprecationWarning: inspect.getargspec() is deprecated, use inspect.signature() instead\n",
      "  args, varargs, kw, default = inspect.getargspec(init)\n"
     ]
    },
    {
     "data": {
      "text/plain": [
       "LinearRegression(copy_X=True, fit_intercept=False, n_jobs=1, normalize=False)"
      ]
     },
     "execution_count": 38,
     "metadata": {},
     "output_type": "execute_result"
    }
   ],
   "source": [
    "from sklearn.linear_model import LinearRegression\n",
    "\n",
    "regr_skl = LinearRegression(fit_intercept=False)\n",
    "regr_skl.fit(x_regr, y_regr)"
   ]
  },
  {
   "cell_type": "code",
   "execution_count": 39,
   "metadata": {
    "collapsed": false
   },
   "outputs": [
    {
     "name": "stdout",
     "output_type": "stream",
     "text": [
      "9472.68544963 \t Intercept\n",
      "3981.37689953 \t C(Management)[T.True]\n",
      "1381.67063053 \t C(Education)[T.Master]\n",
      "1730.74832283 \t C(Education)[T.PhD]\n",
      "4902.52307086 \t C(Management)[T.True]:C(Education)[T.Master]\n",
      "3066.0351249 \t C(Management)[T.True]:C(Education)[T.PhD]\n",
      "496.987010592 \t Experience\n"
     ]
    }
   ],
   "source": [
    "for val, col in zip(regr_skl.coef_[0], x_regr.columns):\n",
    "    print('%s \\t %s' % (val, col))"
   ]
  },
  {
   "cell_type": "markdown",
   "metadata": {},
   "source": [
    "** Comparación de resultados Regresión Lineal **"
   ]
  },
  {
   "cell_type": "code",
   "execution_count": 42,
   "metadata": {
    "collapsed": false
   },
   "outputs": [
    {
     "name": "stdout",
     "output_type": "stream",
     "text": [
      "statsmodels \t scikit \t Diferencia \t Variable \n",
      "\n",
      "+9472.6854 \t +9472.6854 \t +0.0000 \t Intercept\n",
      "+3981.3769 \t +3981.3769 \t +0.0000 \t C(Management)[T.True]\n",
      "+1381.6706 \t +1381.6706 \t +0.0000 \t C(Education)[T.Master]\n",
      "+1730.7483 \t +1730.7483 \t +0.0000 \t C(Education)[T.PhD]\n",
      "+4902.5231 \t +4902.5231 \t +0.0000 \t C(Management)[T.True]:C(Education)[T.Master]\n",
      "+3066.0351 \t +3066.0351 \t +0.0000 \t C(Management)[T.True]:C(Education)[T.PhD]\n",
      "+496.9870 \t +496.9870 \t +0.0000 \t Experience\n"
     ]
    }
   ],
   "source": [
    "print 'statsmodels \\t scikit \\t Diferencia \\t Variable \\n'\n",
    "for v1, v2, c in zip(regr_stm.params, regr_skl.coef_[0], x_regr.columns):\n",
    "    print '%+.4f \\t %+.4f \\t %+.4f \\t %s' % (v1, v2, abs(v1-v2), c)"
   ]
  },
  {
   "cell_type": "markdown",
   "metadata": {},
   "source": [
    "** Resumen **\n",
    "\n",
    "Los coeficientes de la regersión lineal son los mismos en `statsmodels` que en `scikit`,\n",
    "ya que usan el mismo método de optimización (Ordinary Least Squares)\n",
    "\n",
    "En otros casos encontrar la equivalencia es más complicado. "
   ]
  },
  {
   "cell_type": "markdown",
   "metadata": {},
   "source": [
    "** Otro ejemplo: Regresión Logística **\n",
    "\n",
    "Vamos a predecir si es jefe o no en función de la experiencia y la educación\n",
    "\n",
    "** `Management = f(Experience, Education)` **"
   ]
  },
  {
   "cell_type": "markdown",
   "metadata": {},
   "source": [
    "** Preparación de la matriz de datos usando `patsy` **"
   ]
  },
  {
   "cell_type": "code",
   "execution_count": 40,
   "metadata": {
    "collapsed": false
   },
   "outputs": [
    {
     "name": "stdout",
     "output_type": "stream",
     "text": [
      "   Intercept  C(Education)[T.Master]  C(Education)[T.PhD]  Experience\n",
      "0          1                       0                    0           1\n",
      "1          1                       0                    1           1\n",
      "2          1                       0                    1           1\n",
      "3          1                       1                    0           1\n",
      "4          1                       0                    1           1\n",
      "0    1\n",
      "1    0\n",
      "2    1\n",
      "3    0\n",
      "4    0\n",
      "Name: Management[True], dtype: float64\n"
     ]
    }
   ],
   "source": [
    "#print df.head()\n",
    "#formula_logit = 'Management ~ Experience + C(Education) + Salary'\n",
    "formula_logit = 'Management ~ Experience + C(Education)'\n",
    "y_logit_full, x_logit = dmatrices(formula_logit, df, return_type='dataframe')\n",
    "y_logit = y_logit_full[y_logit_full.columns[1]] # Truco para quedarnos con la variable endogena que nos interessa\n",
    "print(x_logit.head())\n",
    "print(y_logit.head())"
   ]
  },
  {
   "cell_type": "markdown",
   "metadata": {},
   "source": [
    "** Regresión Logística con statsmodels **"
   ]
  },
  {
   "cell_type": "code",
   "execution_count": 41,
   "metadata": {
    "collapsed": false
   },
   "outputs": [
    {
     "name": "stdout",
     "output_type": "stream",
     "text": [
      "Optimization terminated successfully.    (Exit mode 0)\n",
      "            Current function value: 0.658846192402\n",
      "            Iterations: 42\n",
      "            Function evaluations: 43\n",
      "            Gradient evaluations: 42\n",
      "                           Logit Regression Results                           \n",
      "==============================================================================\n",
      "Dep. Variable:       Management[True]   No. Observations:                   46\n",
      "Model:                          Logit   Df Residuals:                       42\n",
      "Method:                           MLE   Df Model:                            3\n",
      "Date:                Sat, 21 Nov 2015   Pseudo R-squ.:                 0.03817\n",
      "Time:                        10:31:03   Log-Likelihood:                -30.290\n",
      "converged:                       True   LL-Null:                       -31.492\n",
      "                                        LLR p-value:                    0.4928\n",
      "==========================================================================================\n",
      "                             coef    std err          z      P>|z|      [95.0% Conf. Int.]\n",
      "------------------------------------------------------------------------------------------\n",
      "Intercept                 -0.5872      0.750     -0.783      0.434        -2.057     0.882\n",
      "C(Education)[T.Master]     0.0369      0.733      0.050      0.960        -1.399     1.473\n",
      "C(Education)[T.PhD]        1.0480      0.813      1.289      0.197        -0.545     2.642\n",
      "Experience                 0.0011      0.062      0.017      0.986        -0.120     0.122\n",
      "==========================================================================================\n"
     ]
    }
   ],
   "source": [
    "logit_stm = sm.Logit(y_logit, x_logit)\n",
    "result_logit_stm = logit_stm.fit_regularized(method='l1', full_output=True, alpha=0.01)\n",
    "print(result_logit_stm.summary())"
   ]
  },
  {
   "cell_type": "markdown",
   "metadata": {},
   "source": [
    "** Regresión Logística con `scikit` **"
   ]
  },
  {
   "cell_type": "code",
   "execution_count": 42,
   "metadata": {
    "collapsed": false
   },
   "outputs": [
    {
     "name": "stdout",
     "output_type": "stream",
     "text": [
      "-0.26473069155700313\tIntercept\n",
      "-0.13940280488227713\tC(Education)[T.Master]\n",
      "0.609472275600617\tC(Education)[T.PhD]\n",
      "-0.012424290311584589\tExperience\n"
     ]
    }
   ],
   "source": [
    "from sklearn.linear_model import LogisticRegression\n",
    "logit_skl_l2 = LogisticRegression(fit_intercept=False)\n",
    "logit_skl_l2.fit(x_logit, y_logit)\n",
    "\n",
    "for x,y in zip(logit_skl_l2.coef_[0], x_logit.columns):\n",
    "    print(\"{}\\t{}\".format(x,y))"
   ]
  },
  {
   "cell_type": "markdown",
   "metadata": {},
   "source": [
    "** Comparación de resultados Regresión Logística **"
   ]
  },
  {
   "cell_type": "code",
   "execution_count": 44,
   "metadata": {
    "collapsed": false
   },
   "outputs": [
    {
     "name": "stdout",
     "output_type": "stream",
     "text": [
      "statsmodels \t scikit \t Diferencia \t Variable \n",
      "\n",
      "-0.5872 \t -0.2647 \t +0.3225 \t Intercept\n",
      "+0.0369 \t -0.1394 \t +0.1763 \t C(Education)[T.Master]\n",
      "+1.0480 \t +0.6095 \t +0.4386 \t C(Education)[T.PhD]\n",
      "+0.0011 \t -0.0124 \t +0.0135 \t Experience\n"
     ]
    }
   ],
   "source": [
    "print('statsmodels \\t scikit \\t Diferencia \\t Variable \\n')\n",
    "for v1, v2, c in zip(result_logit_stm.params, logit_skl_l2.coef_[0], x_logit.columns):\n",
    "    print('%+.4f \\t %+.4f \\t %+.4f \\t %s' % (v1, v2, abs(v1-v2), c))"
   ]
  },
  {
   "cell_type": "markdown",
   "metadata": {},
   "source": [
    "La Regresión Logística de `statsmodels` es `l1` y la regresión por defecto de `scikit` es `l2`.\n",
    "Los resultados son muy distintos"
   ]
  },
  {
   "cell_type": "markdown",
   "metadata": {},
   "source": [
    "** Regresión Logística `l1` con `scikit` **"
   ]
  },
  {
   "cell_type": "code",
   "execution_count": 45,
   "metadata": {
    "collapsed": false
   },
   "outputs": [
    {
     "name": "stdout",
     "output_type": "stream",
     "text": [
      "-0.5867189293285004\tIntercept\n",
      "0.03668827700179\tC(Education)[T.Master]\n",
      "1.0475519993446365\tC(Education)[T.PhD]\n",
      "0.0010501840653746777\tExperience\n"
     ]
    }
   ],
   "source": [
    "from sklearn.linear_model import LogisticRegression\n",
    "logit_skl = LogisticRegression(C=1.0 / 0.01, penalty='l1', fit_intercept=False)\n",
    "#logit_skl = LogisticRegression(fit_intercept=False)\n",
    "logit_skl.fit(x_logit, y_logit)\n",
    "\n",
    "for x,y in zip(logit_skl.coef_[0], x_logit.columns):\n",
    "    print(\"{}\\t{}\".format(x,y))"
   ]
  },
  {
   "cell_type": "markdown",
   "metadata": {},
   "source": [
    "** Comparación de resultados Regresión Logística `l1` **"
   ]
  },
  {
   "cell_type": "code",
   "execution_count": 47,
   "metadata": {
    "collapsed": false
   },
   "outputs": [
    {
     "name": "stdout",
     "output_type": "stream",
     "text": [
      "statsmodels \t scikit \t Diferencia \t Variable \n",
      "\n",
      "-0.5872 \t -0.5867 \t +0.0005 \t Intercept\n",
      "+0.0369 \t +0.0367 \t +0.0003 \t C(Education)[T.Master]\n",
      "+1.0480 \t +1.0476 \t +0.0005 \t C(Education)[T.PhD]\n",
      "+0.0011 \t +0.0011 \t +0.0000 \t Experience\n"
     ]
    }
   ],
   "source": [
    "print('statsmodels \\t scikit \\t Diferencia \\t Variable \\n')\n",
    "for v1, v2, c in zip(result_logit_stm.params, logit_skl.coef_[0], x_logit.columns):\n",
    "    print('%+.4f \\t %+.4f \\t %+.4f \\t %s' % (v1, v2, abs(v1-v2), c))"
   ]
  },
  {
   "cell_type": "markdown",
   "metadata": {},
   "source": [
    "Ahora sí :-)\n",
    "Los resultados obtenidos con las dos librerías son muy parecidos "
   ]
  },
  {
   "cell_type": "markdown",
   "metadata": {},
   "source": [
    "** Resumen **\n",
    "\n",
    "En el caso de otros métodos de predicción más complejos, como la Regresión Logística, se puede buscar la equivalencia entre los métodos de `statsmodels` y de `scikit` que sean comunes a los dos.\n",
    "\n",
    "Una vez encontrados, como en el caso que hemos visto, nos será posible desarrollar los modelos con la librería estadística y ponerlos en producción con la de Machine Learning, sacando provecho de las cualidades de los dos."
   ]
  },
  {
   "cell_type": "markdown",
   "metadata": {},
   "source": [
    "# Más features de statsmodels\n",
    " - Generalized Linear Models: $y = g(\\sum x_i \\beta_i)$\n",
    " - Robust Linear Models: intentan evitar efectos nocivos de outliers automáticamente\n",
    " - Time series analysis: modelos autoregresivos\n",
    " - Utilidades: más tests estadísticos y plots"
   ]
  },
  {
   "cell_type": "markdown",
   "metadata": {},
   "source": [
    "## ¡¡¡Muchas gracias por vuestra atención!!!\n",
    "<img src=\"http://globalprioritiesproject.org/wp-content/uploads/2015/09/hiring_graphic.jpeg\" style=\"width:300px\">\n",
    "\n",
    "<img src=\"http://www.forodefotos.com/attachments/fotos-graciosas/34302d1338949327-alumnos-durmiendo-durmiendo-en-clase.jpg\" style=\"display:none\">\n",
    "\n",
    "\n",
    " - `israel@lead-ratings.com`\n",
    " - `miquel.camprodon@kernel-analytics.com`\n",
    "\n",
    "\n",
    "## ¿Alguna pregunta?"
   ]
  }
 ],
 "metadata": {
  "kernelspec": {
   "display_name": "Python 3",
   "language": "python",
   "name": "python3"
  },
  "language_info": {
   "codemirror_mode": {
    "name": "ipython",
    "version": 3
   },
   "file_extension": ".py",
   "mimetype": "text/x-python",
   "name": "python",
   "nbconvert_exporter": "python",
   "pygments_lexer": "ipython3",
   "version": "3.5.0"
  }
 },
 "nbformat": 4,
 "nbformat_minor": 0
}
